{
 "cells": [
  {
   "cell_type": "code",
   "execution_count": 1,
   "id": "2c06cfe9-edff-4321-b85c-b37d7ec0285e",
   "metadata": {},
   "outputs": [
    {
     "name": "stdout",
     "output_type": "stream",
     "text": [
      "0        3\n",
      "1        2\n",
      "2        9\n",
      "3        7\n",
      "4       12\n",
      "        ..\n",
      "1039     7\n",
      "1040     6\n",
      "1041     5\n",
      "1042     2\n",
      "1043     5\n",
      "Name: DTH_CUM_CP, Length: 1044, dtype: int64\n"
     ]
    }
   ],
   "source": [
    "import pandas as pd \n",
    "import numpy as np\n",
    "import torch\n",
    "import matplotlib.pyplot as plt\n",
    "\n",
    "trainX_df = pd.read_csv(\"train.csv\", usecols=[0,1,2,3,4,5,6,7,8,9])\n",
    "trainX_npArr = trainX_df.values\n",
    "trainX = torch.tensor(trainX_npArr, dtype = torch.float64)\n",
    "trainY_df = pd.read_csv(\"train.csv\", usecols=[10])\n",
    "trainY_df = trainY_df.iloc[:,-1]\n",
    "print(trainY_df)\n",
    "trainY_npArr = trainY_df.values\n",
    "trainY = torch.tensor(trainY_npArr, dtype = torch.float64)\n",
    "testX_df = pd.read_csv(\"test.csv\", usecols=[0,1,2,3,4,5,6,7,8,9])\n",
    "testX_npArr = testX_df.values \n",
    "testX = torch.tensor(testX_npArr, dtype = torch.float64)\n",
    "testY_df = pd.read_csv(\"test.csv\", usecols=[10])\n",
    "testY_npArr = testY_df.values\n",
    "testY = torch.tensor(testY_npArr, dtype = torch.float64)\n"
   ]
  },
  {
   "cell_type": "code",
   "execution_count": 2,
   "id": "82262e69-15c5-40fa-a6d4-8b648a9a08cf",
   "metadata": {},
   "outputs": [
    {
     "name": "stdout",
     "output_type": "stream",
     "text": [
      "tensor(4., requires_grad=True)\n"
     ]
    },
    {
     "data": {
      "image/png": "[encoded data removed]",
      "text/plain": [
       "<Figure size 640x480 with 1 Axes>"
      ]
     },
     "metadata": {},
     "output_type": "display_data"
    }
   ],
   "source": [
    "#Visualization of what SGD Optimizer does\n",
    "def f(x):\n",
    "    return x**2 - 8*x + 19\n",
    "x = torch.arange(-5,10,.1)\n",
    "y = f(x)\n",
    "plt.plot(x,y)\n",
    "x = torch.tensor(0.0, requires_grad = True)\n",
    "optimizer = torch.optim.SGD([x], lr =.5)\n",
    "for epoch in range(10):\n",
    "    y = f(x)\n",
    "    plt.plot(x.detach(), y.detach(), \"ro\", markersize = 3 + epoch)\n",
    "    y.backward()\n",
    "    optimizer.step()\n",
    "    optimizer.zero_grad()\n",
    "print(x)"
   ]
  },
  {
   "cell_type": "code",
   "execution_count": 3,
   "id": "3a90757c-eb3c-4315-97f8-45b4c12d2258",
   "metadata": {},
   "outputs": [
    {
     "data": {
      "text/plain": [
       "4.0"
      ]
     },
     "execution_count": 3,
     "metadata": {},
     "output_type": "execute_result"
    }
   ],
   "source": [
    "#The minimum in this function, found with SGD, with a learning rate of 0.5\n",
    "x.item()"
   ]
  },
  {
   "cell_type": "code",
   "execution_count": 4,
   "id": "e930d774-2557-41a3-957a-ab972346569f",
   "metadata": {},
   "outputs": [],
   "source": [
    "#Loading the training data into a \n",
    "ds = torch.utils.data.TensorDataset(trainX, trainY)\n",
    "dl = torch.utils.data.DataLoader(ds, batch_size=50, shuffle=True)\n",
    "torch.manual_seed(544)\n",
    "coef = torch.tensor([\n",
    "        [0.0000],\n",
    "        [0.0000],\n",
    "        [0.0000],\n",
    "        [0.0000],\n",
    "        [0.0000],\n",
    "        [0.0000], # POS_50_59_CP\n",
    "        [0.0000], # POS_60_69_CP\n",
    "        [0.0000],\n",
    "        [0.0000],\n",
    "        [0.0000]\n",
    "], dtype=trainX.dtype, requires_grad = True)\n",
    "loss = torch.nn.MSELoss()\n",
    "optimizer = torch.optim.SGD([coef], lr =.000002)\n",
    "for epoch in range(500):\n",
    "    #first iterate over each batch\n",
    "    for dX, dY in dl:\n",
    "        #find prediction\n",
    "        #calculate loss \n",
    "        predDX = dX @ coef\n",
    "        dY = dY.reshape(-1,1)\n",
    "        ret=loss(predDX, dY)\n",
    "        ret.backward()\n",
    "        optimizer.step()\n",
    "        optimizer.zero_grad()\n",
    "    #find prediction\n",
    "    #calculate loss \n",
    "    #calculate gradient and optimize\n",
    "train_pred = trainX @ coef\n",
    "TotalLoss = loss(train_pred,trainY.reshape(-1,1))"
   ]
  },
  {
   "cell_type": "code",
   "execution_count": 5,
   "id": "ac9e7768-e89a-4a42-a0fc-72f2a785280c",
   "metadata": {},
   "outputs": [
    {
     "data": {
      "text/plain": [
       "26.811394014719298"
      ]
     },
     "execution_count": 5,
     "metadata": {},
     "output_type": "execute_result"
    }
   ],
   "source": [
    "#q9\n",
    "TotalLoss.item()"
   ]
  },
  {
   "cell_type": "code",
   "execution_count": 6,
   "id": "ac5ba654-ea16-4a6e-8dcf-d15ea09f23ef",
   "metadata": {},
   "outputs": [
    {
     "data": {
      "text/plain": [
       "tensor([[-0.0351],\n",
       "        [ 0.0007],\n",
       "        [ 0.0013],\n",
       "        [ 0.0131],\n",
       "        [ 0.0116],\n",
       "        [-0.0005],\n",
       "        [ 0.0148],\n",
       "        [-0.0122],\n",
       "        [ 0.1636],\n",
       "        [ 0.1458]], dtype=torch.float64, requires_grad=True)"
      ]
     },
     "execution_count": 6,
     "metadata": {},
     "output_type": "execute_result"
    }
   ],
   "source": [
    "\n",
    "test_pred = testX @ coef\n",
    "TestTotalLoss = loss(test_pred,testY)\n",
    "#coef is the predicted death rates using the SGD optimizer\n",
    "coef"
   ]
  },
  {
   "cell_type": "code",
   "execution_count": 7,
   "id": "ccb3025c-9591-4d06-beee-35188c176e33",
   "metadata": {},
   "outputs": [
    {
     "data": {
      "text/plain": [
       "29.05854692548551"
      ]
     },
     "execution_count": 7,
     "metadata": {},
     "output_type": "execute_result"
    }
   ],
   "source": [
    "\n",
    "TestTotalLoss.item()"
   ]
  }
 ],
 "metadata": {
  "kernelspec": {
   "display_name": "Python 3 (ipykernel)",
   "language": "python",
   "name": "python3"
  },
  "language_info": {
   "codemirror_mode": {
    "name": "ipython",
    "version": 3
   },
   "file_extension": ".py",
   "mimetype": "text/x-python",
   "name": "python",
   "nbconvert_exporter": "python",
   "pygments_lexer": "ipython3",
   "version": "3.11.5"
  }
 },
 "nbformat": 4,
 "nbformat_minor": 5
}
